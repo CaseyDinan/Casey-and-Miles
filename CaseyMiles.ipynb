{
 "cells": [
  {
   "cell_type": "code",
   "execution_count": 1,
   "metadata": {},
   "outputs": [
    {
     "name": "stdin",
     "output_type": "stream",
     "text": [
      "Please enter your name Casey\n",
      "Please enter your favorite sport Basketball\n"
     ]
    },
    {
     "name": "stdout",
     "output_type": "stream",
     "text": [
      "Hi Casey I like Basketball too!\n"
     ]
    }
   ],
   "source": [
    "name = input(\"Please enter your name\")\n",
    "sport = input(\"Please enter your favorite sport\")\n",
    "print(\"Hi\", name, \"I like\", sport, \"too!\")"
   ]
  },
  {
   "cell_type": "code",
   "execution_count": null,
   "metadata": {},
   "outputs": [],
   "source": []
  }
